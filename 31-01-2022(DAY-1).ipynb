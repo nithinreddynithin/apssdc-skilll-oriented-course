{
 "cells": [
  {
   "cell_type": "code",
   "execution_count": 1,
   "id": "b6ebb428",
   "metadata": {},
   "outputs": [
    {
     "name": "stdout",
     "output_type": "stream",
     "text": [
      "welcome to python lab\n"
     ]
    }
   ],
   "source": [
    "print(\"welcome to python lab\")"
   ]
  },
  {
   "cell_type": "markdown",
   "id": "3606b50f",
   "metadata": {},
   "source": [
    "# code mode--->esc+m\n",
    "# markdown--->esc+y\n",
    "## hi\n",
    "### wellcome\n",
    "#### python\n",
    "##### lab\n",
    "###### lass"
   ]
  },
  {
   "cell_type": "markdown",
   "id": "43b07178",
   "metadata": {},
   "source": [
    "# bold:\n",
    "**apssdc**"
   ]
  },
  {
   "cell_type": "markdown",
   "id": "13402767",
   "metadata": {},
   "source": [
    "# italic :\n",
    "*apssdc*"
   ]
  },
  {
   "cell_type": "markdown",
   "id": "e4882e43",
   "metadata": {},
   "source": [
    "***apssdc&vasavi***"
   ]
  },
  {
   "cell_type": "markdown",
   "id": "776dbf83",
   "metadata": {},
   "source": [
    "i am from vasai student.  \n",
    "i am mahesh second year.  \n",
    "i am studying python language.  \n"
   ]
  },
  {
   "cell_type": "markdown",
   "id": "d52922ab",
   "metadata": {},
   "source": [
    "hgieqwtgoiuhop9 jkrhi0pqojioucb9ouqr8 iurhoi3yrhoa  \n",
    "qioultyp98bnohy kjhweiohfybvuiawfh iuhfweuih"
   ]
  },
  {
   "cell_type": "markdown",
   "id": "bad12169",
   "metadata": {},
   "source": [
    "## unorder list & sub list:\n",
    "+ one  \n",
    "- two  \n",
    "+ three  \n",
    "* four  \n",
    "    + five  \n",
    "    - six  \n",
    "    * seven  \n",
    "        + eight  \n",
    "        - nine  \n",
    "        * zero  "
   ]
  },
  {
   "cell_type": "markdown",
   "id": "6b189d8e",
   "metadata": {},
   "source": [
    "## order list & sub list :\n",
    "1. one  \n",
    "2. two  \n",
    "3. three  \n",
    "    4. foure  \n",
    "    5. five  \n",
    "    6. six  \n",
    "        7. seven  \n",
    "        8. eight  \n",
    "        9. nine  \n",
    "        \n"
   ]
  },
  {
   "cell_type": "markdown",
   "id": "cea078a0",
   "metadata": {},
   "source": [
    "### commends:\n",
    "- user readiable information or data  \n",
    "- it is mentioned in '#'  \n",
    "- for multiple line command mentioned in \"\"\" \"\"\""
   ]
  },
  {
   "cell_type": "markdown",
   "id": "706f4db2",
   "metadata": {},
   "source": [
    "## variables:\n",
    "- which is use to store data.\n",
    "- variable starts with characters(upper,lower),underscore.\n",
    "- variable could not start with numbers,special symbols,keywords."
   ]
  },
  {
   "cell_type": "code",
   "execution_count": 7,
   "id": "b212ac92",
   "metadata": {},
   "outputs": [
    {
     "data": {
      "text/plain": [
       "100"
      ]
     },
     "execution_count": 7,
     "metadata": {},
     "output_type": "execute_result"
    }
   ],
   "source": [
    "abc=100\n",
    "abc"
   ]
  },
  {
   "cell_type": "code",
   "execution_count": 3,
   "id": "038fc18c",
   "metadata": {},
   "outputs": [
    {
     "ename": "SyntaxError",
     "evalue": "invalid syntax (Temp/ipykernel_8388/3692417519.py, line 1)",
     "output_type": "error",
     "traceback": [
      "\u001b[1;36m  File \u001b[1;32m\"C:\\Users\\efcodd\\AppData\\Local\\Temp/ipykernel_8388/3692417519.py\"\u001b[1;36m, line \u001b[1;32m1\u001b[0m\n\u001b[1;33m    121abc=\"349\"\u001b[0m\n\u001b[1;37m       ^\u001b[0m\n\u001b[1;31mSyntaxError\u001b[0m\u001b[1;31m:\u001b[0m invalid syntax\n"
     ]
    }
   ],
   "source": [
    "121abc=\"349\"\n",
    "121abc"
   ]
  },
  {
   "cell_type": "code",
   "execution_count": 4,
   "id": "102d01d8",
   "metadata": {},
   "outputs": [
    {
     "ename": "SyntaxError",
     "evalue": "invalid syntax (Temp/ipykernel_8388/1313840977.py, line 1)",
     "output_type": "error",
     "traceback": [
      "\u001b[1;36m  File \u001b[1;32m\"C:\\Users\\efcodd\\AppData\\Local\\Temp/ipykernel_8388/1313840977.py\"\u001b[1;36m, line \u001b[1;32m1\u001b[0m\n\u001b[1;33m    @abc=\"234\"\u001b[0m\n\u001b[1;37m        ^\u001b[0m\n\u001b[1;31mSyntaxError\u001b[0m\u001b[1;31m:\u001b[0m invalid syntax\n"
     ]
    }
   ],
   "source": [
    "@abc=123\n",
    "@abc"
   ]
  },
  {
   "cell_type": "code",
   "execution_count": 6,
   "id": "fbe25dea",
   "metadata": {},
   "outputs": [
    {
     "data": {
      "text/plain": [
       "123"
      ]
     },
     "execution_count": 6,
     "metadata": {},
     "output_type": "execute_result"
    }
   ],
   "source": [
    "python=123\n",
    "python"
   ]
  },
  {
   "cell_type": "code",
   "execution_count": 8,
   "id": "cd3a7939",
   "metadata": {},
   "outputs": [
    {
     "ename": "SyntaxError",
     "evalue": "invalid syntax (Temp/ipykernel_8388/2419862529.py, line 1)",
     "output_type": "error",
     "traceback": [
      "\u001b[1;36m  File \u001b[1;32m\"C:\\Users\\efcodd\\AppData\\Local\\Temp/ipykernel_8388/2419862529.py\"\u001b[1;36m, line \u001b[1;32m1\u001b[0m\n\u001b[1;33m    python offline=234\u001b[0m\n\u001b[1;37m           ^\u001b[0m\n\u001b[1;31mSyntaxError\u001b[0m\u001b[1;31m:\u001b[0m invalid syntax\n"
     ]
    }
   ],
   "source": [
    "python offline=234\n",
    "python offline"
   ]
  },
  {
   "cell_type": "markdown",
   "id": "210348c4",
   "metadata": {},
   "source": [
    "### datatypes:\n",
    "- int(all integer values)\n",
    "- float(integer with decimal values)\n",
    "- string( combination of characters or group of characters)\n",
    "- complex(number with real and imaginary part)\n",
    "- boolean(true,flase)"
   ]
  },
  {
   "cell_type": "code",
   "execution_count": 9,
   "id": "3bb5adc5",
   "metadata": {},
   "outputs": [],
   "source": [
    "a=765\n",
    "b=67.9\n",
    "c=\"apssdc\"\n",
    "d='p'\n",
    "e=1+2j\n",
    "f='1+2j'\n",
    "g=True"
   ]
  },
  {
   "cell_type": "code",
   "execution_count": 11,
   "id": "5eaf21bc",
   "metadata": {},
   "outputs": [
    {
     "name": "stdout",
     "output_type": "stream",
     "text": [
      "<class 'int'>\n",
      "<class 'float'>\n",
      "<class 'str'>\n",
      "<class 'str'>\n",
      "<class 'complex'>\n",
      "<class 'str'>\n",
      "<class 'bool'>\n"
     ]
    }
   ],
   "source": [
    "print(type(a))\n",
    "print(type(b))\n",
    "print(type(c))\n",
    "print(type(d))\n",
    "print(type(e))\n",
    "print(type(f))\n",
    "print(type(g))"
   ]
  },
  {
   "cell_type": "markdown",
   "id": "424820d4",
   "metadata": {},
   "source": [
    "### Typecasting\n",
    "- which converts the date from one data type to another data type.\n"
   ]
  },
  {
   "cell_type": "code",
   "execution_count": 12,
   "id": "b6942f23",
   "metadata": {},
   "outputs": [
    {
     "name": "stdout",
     "output_type": "stream",
     "text": [
      "<class 'int'>\n"
     ]
    }
   ],
   "source": [
    "_abc=458\n",
    "print(type(_abc))"
   ]
  },
  {
   "cell_type": "code",
   "execution_count": 14,
   "id": "a4caad83",
   "metadata": {},
   "outputs": [
    {
     "name": "stdout",
     "output_type": "stream",
     "text": [
      "<class 'str'>\n",
      "458\n"
     ]
    }
   ],
   "source": [
    "z=str(_abc)\n",
    "print(type(z))\n",
    "print(z)"
   ]
  },
  {
   "cell_type": "code",
   "execution_count": 15,
   "id": "53fb925b",
   "metadata": {},
   "outputs": [
    {
     "name": "stdout",
     "output_type": "stream",
     "text": [
      "<class 'float'>\n",
      "458.0\n"
     ]
    }
   ],
   "source": [
    "z=float(_abc)\n",
    "print(type(z))\n",
    "print(z)"
   ]
  },
  {
   "cell_type": "code",
   "execution_count": 16,
   "id": "0b56a7ca",
   "metadata": {},
   "outputs": [
    {
     "name": "stdout",
     "output_type": "stream",
     "text": [
      "<class 'complex'>\n",
      "(458+0j)\n"
     ]
    }
   ],
   "source": [
    "z=complex(_abc)\n",
    "print(type(z))\n",
    "print(z)"
   ]
  },
  {
   "cell_type": "code",
   "execution_count": 19,
   "id": "05d6f136",
   "metadata": {},
   "outputs": [
    {
     "name": "stdout",
     "output_type": "stream",
     "text": [
      "<class 'str'>\n"
     ]
    }
   ],
   "source": [
    "abc=\"vasavi college\"\n",
    "print(type(abc))"
   ]
  },
  {
   "cell_type": "code",
   "execution_count": 20,
   "id": "6497c2e1",
   "metadata": {},
   "outputs": [
    {
     "ename": "ValueError",
     "evalue": "invalid literal for int() with base 10: 'vasavi college'",
     "output_type": "error",
     "traceback": [
      "\u001b[1;31m---------------------------------------------------------------------------\u001b[0m",
      "\u001b[1;31mValueError\u001b[0m                                Traceback (most recent call last)",
      "\u001b[1;32m~\\AppData\\Local\\Temp/ipykernel_8388/3789439297.py\u001b[0m in \u001b[0;36m<module>\u001b[1;34m\u001b[0m\n\u001b[1;32m----> 1\u001b[1;33m \u001b[0mz\u001b[0m\u001b[1;33m=\u001b[0m\u001b[0mint\u001b[0m\u001b[1;33m(\u001b[0m\u001b[0mabc\u001b[0m\u001b[1;33m)\u001b[0m\u001b[1;33m\u001b[0m\u001b[1;33m\u001b[0m\u001b[0m\n\u001b[0m\u001b[0;32m      2\u001b[0m \u001b[0mprint\u001b[0m\u001b[1;33m(\u001b[0m\u001b[0mtype\u001b[0m\u001b[1;33m(\u001b[0m\u001b[0mz\u001b[0m\u001b[1;33m)\u001b[0m\u001b[1;33m)\u001b[0m\u001b[1;33m\u001b[0m\u001b[1;33m\u001b[0m\u001b[0m\n\u001b[0;32m      3\u001b[0m \u001b[0mprint\u001b[0m\u001b[1;33m(\u001b[0m\u001b[0mz\u001b[0m\u001b[1;33m)\u001b[0m\u001b[1;33m\u001b[0m\u001b[1;33m\u001b[0m\u001b[0m\n",
      "\u001b[1;31mValueError\u001b[0m: invalid literal for int() with base 10: 'vasavi college'"
     ]
    }
   ],
   "source": [
    "z=int(abc)\n",
    "print(type(z))\n",
    "print(z)"
   ]
  },
  {
   "cell_type": "code",
   "execution_count": 21,
   "id": "fbc0e9fe",
   "metadata": {},
   "outputs": [
    {
     "name": "stdout",
     "output_type": "stream",
     "text": [
      "<class 'int'>\n",
      "123435456\n"
     ]
    }
   ],
   "source": [
    "abc=\"123435456\"\n",
    "z=int(abc)\n",
    "print(type(z))\n",
    "print(z)"
   ]
  },
  {
   "cell_type": "code",
   "execution_count": 22,
   "id": "4c1e422c",
   "metadata": {},
   "outputs": [
    {
     "name": "stdout",
     "output_type": "stream",
     "text": [
      "<class 'float'>\n",
      "123435456.0\n"
     ]
    }
   ],
   "source": [
    "z=float(abc)\n",
    "print(type(z))\n",
    "print(z)"
   ]
  },
  {
   "cell_type": "code",
   "execution_count": 23,
   "id": "be115d89",
   "metadata": {},
   "outputs": [
    {
     "name": "stdout",
     "output_type": "stream",
     "text": [
      "<class 'complex'>\n",
      "(123435456+0j)\n"
     ]
    }
   ],
   "source": [
    "z=complex(abc)\n",
    "print(type(z))\n",
    "print(z)"
   ]
  },
  {
   "cell_type": "code",
   "execution_count": null,
   "id": "09ce3440",
   "metadata": {},
   "outputs": [],
   "source": []
  }
 ],
 "metadata": {
  "kernelspec": {
   "display_name": "Python 3 (ipykernel)",
   "language": "python",
   "name": "python3"
  },
  "language_info": {
   "codemirror_mode": {
    "name": "ipython",
    "version": 3
   },
   "file_extension": ".py",
   "mimetype": "text/x-python",
   "name": "python",
   "nbconvert_exporter": "python",
   "pygments_lexer": "ipython3",
   "version": "3.9.7"
  }
 },
 "nbformat": 4,
 "nbformat_minor": 5
}
